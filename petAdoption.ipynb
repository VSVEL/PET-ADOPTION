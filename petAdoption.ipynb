{
  "nbformat": 4,
  "nbformat_minor": 0,
  "metadata": {
    "colab": {
      "name": "petAdoption.ipynb",
      "provenance": [],
      "collapsed_sections": []
    },
    "kernelspec": {
      "name": "python3",
      "display_name": "Python 3"
    }
  },
  "cells": [
    {
      "cell_type": "code",
      "metadata": {
        "id": "swjccds6SLoP",
        "colab_type": "code",
        "colab": {}
      },
      "source": [
        "import numpy as np\n",
        "import matplotlib.pyplot as plt\n",
        "import pandas as pd\n",
        "import seaborn as sns"
      ],
      "execution_count": 35,
      "outputs": []
    },
    {
      "cell_type": "code",
      "metadata": {
        "id": "d-UOGgOWSl3f",
        "colab_type": "code",
        "colab": {
          "base_uri": "https://localhost:8080/",
          "height": 195
        },
        "outputId": "f6c306c4-43bc-4a87-d5c5-3c58883e135c"
      },
      "source": [
        "df = pd.read_csv(\"/content/drive/My Drive/Pet Adoption/Dataset/train.csv\")\n",
        "df1 = pd.read_csv(\"/content/drive/My Drive/Pet Adoption/Dataset/test.csv\")\n",
        "df.head(5)"
      ],
      "execution_count": 39,
      "outputs": [
        {
          "output_type": "execute_result",
          "data": {
            "text/html": [
              "<div>\n",
              "<style scoped>\n",
              "    .dataframe tbody tr th:only-of-type {\n",
              "        vertical-align: middle;\n",
              "    }\n",
              "\n",
              "    .dataframe tbody tr th {\n",
              "        vertical-align: top;\n",
              "    }\n",
              "\n",
              "    .dataframe thead th {\n",
              "        text-align: right;\n",
              "    }\n",
              "</style>\n",
              "<table border=\"1\" class=\"dataframe\">\n",
              "  <thead>\n",
              "    <tr style=\"text-align: right;\">\n",
              "      <th></th>\n",
              "      <th>pet_id</th>\n",
              "      <th>issue_date</th>\n",
              "      <th>listing_date</th>\n",
              "      <th>condition</th>\n",
              "      <th>color_type</th>\n",
              "      <th>length(m)</th>\n",
              "      <th>height(cm)</th>\n",
              "      <th>X1</th>\n",
              "      <th>X2</th>\n",
              "      <th>breed_category</th>\n",
              "      <th>pet_category</th>\n",
              "    </tr>\n",
              "  </thead>\n",
              "  <tbody>\n",
              "    <tr>\n",
              "      <th>0</th>\n",
              "      <td>ANSL_69903</td>\n",
              "      <td>2016-07-10 00:00:00</td>\n",
              "      <td>2016-09-21 16:25:00</td>\n",
              "      <td>2.0</td>\n",
              "      <td>Brown Tabby</td>\n",
              "      <td>0.80</td>\n",
              "      <td>7.78</td>\n",
              "      <td>13</td>\n",
              "      <td>9</td>\n",
              "      <td>0.0</td>\n",
              "      <td>1</td>\n",
              "    </tr>\n",
              "    <tr>\n",
              "      <th>1</th>\n",
              "      <td>ANSL_66892</td>\n",
              "      <td>2013-11-21 00:00:00</td>\n",
              "      <td>2018-12-27 17:47:00</td>\n",
              "      <td>1.0</td>\n",
              "      <td>White</td>\n",
              "      <td>0.72</td>\n",
              "      <td>14.19</td>\n",
              "      <td>13</td>\n",
              "      <td>9</td>\n",
              "      <td>0.0</td>\n",
              "      <td>2</td>\n",
              "    </tr>\n",
              "    <tr>\n",
              "      <th>2</th>\n",
              "      <td>ANSL_69750</td>\n",
              "      <td>2014-09-28 00:00:00</td>\n",
              "      <td>2016-10-19 08:24:00</td>\n",
              "      <td>NaN</td>\n",
              "      <td>Brown</td>\n",
              "      <td>0.15</td>\n",
              "      <td>40.90</td>\n",
              "      <td>15</td>\n",
              "      <td>4</td>\n",
              "      <td>2.0</td>\n",
              "      <td>4</td>\n",
              "    </tr>\n",
              "    <tr>\n",
              "      <th>3</th>\n",
              "      <td>ANSL_71623</td>\n",
              "      <td>2016-12-31 00:00:00</td>\n",
              "      <td>2019-01-25 18:30:00</td>\n",
              "      <td>1.0</td>\n",
              "      <td>White</td>\n",
              "      <td>0.62</td>\n",
              "      <td>17.82</td>\n",
              "      <td>0</td>\n",
              "      <td>1</td>\n",
              "      <td>0.0</td>\n",
              "      <td>2</td>\n",
              "    </tr>\n",
              "    <tr>\n",
              "      <th>4</th>\n",
              "      <td>ANSL_57969</td>\n",
              "      <td>2017-09-28 00:00:00</td>\n",
              "      <td>2017-11-19 09:38:00</td>\n",
              "      <td>2.0</td>\n",
              "      <td>Black</td>\n",
              "      <td>0.50</td>\n",
              "      <td>11.06</td>\n",
              "      <td>18</td>\n",
              "      <td>4</td>\n",
              "      <td>0.0</td>\n",
              "      <td>1</td>\n",
              "    </tr>\n",
              "  </tbody>\n",
              "</table>\n",
              "</div>"
            ],
            "text/plain": [
              "       pet_id           issue_date  ... breed_category  pet_category\n",
              "0  ANSL_69903  2016-07-10 00:00:00  ...            0.0             1\n",
              "1  ANSL_66892  2013-11-21 00:00:00  ...            0.0             2\n",
              "2  ANSL_69750  2014-09-28 00:00:00  ...            2.0             4\n",
              "3  ANSL_71623  2016-12-31 00:00:00  ...            0.0             2\n",
              "4  ANSL_57969  2017-09-28 00:00:00  ...            0.0             1\n",
              "\n",
              "[5 rows x 11 columns]"
            ]
          },
          "metadata": {
            "tags": []
          },
          "execution_count": 39
        }
      ]
    },
    {
      "cell_type": "code",
      "metadata": {
        "id": "Mpko11srbKd0",
        "colab_type": "code",
        "colab": {
          "base_uri": "https://localhost:8080/",
          "height": 402
        },
        "outputId": "381cd6e6-448e-4942-bb83-bd32e1613b75"
      },
      "source": [
        "df = df.drop([\"pet_id\",\"issue_date\",\"listing_date\"],axis= 1)\n",
        "df = df.fillna(0)\n",
        "df"
      ],
      "execution_count": 40,
      "outputs": [
        {
          "output_type": "execute_result",
          "data": {
            "text/html": [
              "<div>\n",
              "<style scoped>\n",
              "    .dataframe tbody tr th:only-of-type {\n",
              "        vertical-align: middle;\n",
              "    }\n",
              "\n",
              "    .dataframe tbody tr th {\n",
              "        vertical-align: top;\n",
              "    }\n",
              "\n",
              "    .dataframe thead th {\n",
              "        text-align: right;\n",
              "    }\n",
              "</style>\n",
              "<table border=\"1\" class=\"dataframe\">\n",
              "  <thead>\n",
              "    <tr style=\"text-align: right;\">\n",
              "      <th></th>\n",
              "      <th>condition</th>\n",
              "      <th>color_type</th>\n",
              "      <th>length(m)</th>\n",
              "      <th>height(cm)</th>\n",
              "      <th>X1</th>\n",
              "      <th>X2</th>\n",
              "      <th>breed_category</th>\n",
              "      <th>pet_category</th>\n",
              "    </tr>\n",
              "  </thead>\n",
              "  <tbody>\n",
              "    <tr>\n",
              "      <th>0</th>\n",
              "      <td>2.0</td>\n",
              "      <td>Brown Tabby</td>\n",
              "      <td>0.80</td>\n",
              "      <td>7.78</td>\n",
              "      <td>13</td>\n",
              "      <td>9</td>\n",
              "      <td>0.0</td>\n",
              "      <td>1</td>\n",
              "    </tr>\n",
              "    <tr>\n",
              "      <th>1</th>\n",
              "      <td>1.0</td>\n",
              "      <td>White</td>\n",
              "      <td>0.72</td>\n",
              "      <td>14.19</td>\n",
              "      <td>13</td>\n",
              "      <td>9</td>\n",
              "      <td>0.0</td>\n",
              "      <td>2</td>\n",
              "    </tr>\n",
              "    <tr>\n",
              "      <th>2</th>\n",
              "      <td>0.0</td>\n",
              "      <td>Brown</td>\n",
              "      <td>0.15</td>\n",
              "      <td>40.90</td>\n",
              "      <td>15</td>\n",
              "      <td>4</td>\n",
              "      <td>2.0</td>\n",
              "      <td>4</td>\n",
              "    </tr>\n",
              "    <tr>\n",
              "      <th>3</th>\n",
              "      <td>1.0</td>\n",
              "      <td>White</td>\n",
              "      <td>0.62</td>\n",
              "      <td>17.82</td>\n",
              "      <td>0</td>\n",
              "      <td>1</td>\n",
              "      <td>0.0</td>\n",
              "      <td>2</td>\n",
              "    </tr>\n",
              "    <tr>\n",
              "      <th>4</th>\n",
              "      <td>2.0</td>\n",
              "      <td>Black</td>\n",
              "      <td>0.50</td>\n",
              "      <td>11.06</td>\n",
              "      <td>18</td>\n",
              "      <td>4</td>\n",
              "      <td>0.0</td>\n",
              "      <td>1</td>\n",
              "    </tr>\n",
              "    <tr>\n",
              "      <th>...</th>\n",
              "      <td>...</td>\n",
              "      <td>...</td>\n",
              "      <td>...</td>\n",
              "      <td>...</td>\n",
              "      <td>...</td>\n",
              "      <td>...</td>\n",
              "      <td>...</td>\n",
              "      <td>...</td>\n",
              "    </tr>\n",
              "    <tr>\n",
              "      <th>18829</th>\n",
              "      <td>2.0</td>\n",
              "      <td>Tricolor</td>\n",
              "      <td>0.44</td>\n",
              "      <td>27.36</td>\n",
              "      <td>0</td>\n",
              "      <td>1</td>\n",
              "      <td>0.0</td>\n",
              "      <td>2</td>\n",
              "    </tr>\n",
              "    <tr>\n",
              "      <th>18830</th>\n",
              "      <td>0.0</td>\n",
              "      <td>Brown</td>\n",
              "      <td>0.73</td>\n",
              "      <td>14.25</td>\n",
              "      <td>15</td>\n",
              "      <td>4</td>\n",
              "      <td>2.0</td>\n",
              "      <td>4</td>\n",
              "    </tr>\n",
              "    <tr>\n",
              "      <th>18831</th>\n",
              "      <td>0.0</td>\n",
              "      <td>Calico Point</td>\n",
              "      <td>0.99</td>\n",
              "      <td>28.13</td>\n",
              "      <td>13</td>\n",
              "      <td>9</td>\n",
              "      <td>1.0</td>\n",
              "      <td>1</td>\n",
              "    </tr>\n",
              "    <tr>\n",
              "      <th>18832</th>\n",
              "      <td>0.0</td>\n",
              "      <td>Tan</td>\n",
              "      <td>0.55</td>\n",
              "      <td>44.82</td>\n",
              "      <td>13</td>\n",
              "      <td>9</td>\n",
              "      <td>1.0</td>\n",
              "      <td>2</td>\n",
              "    </tr>\n",
              "    <tr>\n",
              "      <th>18833</th>\n",
              "      <td>0.0</td>\n",
              "      <td>Brown</td>\n",
              "      <td>0.86</td>\n",
              "      <td>37.40</td>\n",
              "      <td>0</td>\n",
              "      <td>1</td>\n",
              "      <td>1.0</td>\n",
              "      <td>2</td>\n",
              "    </tr>\n",
              "  </tbody>\n",
              "</table>\n",
              "<p>18834 rows × 8 columns</p>\n",
              "</div>"
            ],
            "text/plain": [
              "       condition    color_type  length(m)  ...  X2  breed_category  pet_category\n",
              "0            2.0   Brown Tabby       0.80  ...   9             0.0             1\n",
              "1            1.0         White       0.72  ...   9             0.0             2\n",
              "2            0.0         Brown       0.15  ...   4             2.0             4\n",
              "3            1.0         White       0.62  ...   1             0.0             2\n",
              "4            2.0         Black       0.50  ...   4             0.0             1\n",
              "...          ...           ...        ...  ...  ..             ...           ...\n",
              "18829        2.0      Tricolor       0.44  ...   1             0.0             2\n",
              "18830        0.0         Brown       0.73  ...   4             2.0             4\n",
              "18831        0.0  Calico Point       0.99  ...   9             1.0             1\n",
              "18832        0.0           Tan       0.55  ...   9             1.0             2\n",
              "18833        0.0         Brown       0.86  ...   1             1.0             2\n",
              "\n",
              "[18834 rows x 8 columns]"
            ]
          },
          "metadata": {
            "tags": []
          },
          "execution_count": 40
        }
      ]
    },
    {
      "cell_type": "code",
      "metadata": {
        "id": "md1yF4uJcGgF",
        "colab_type": "code",
        "colab": {
          "base_uri": "https://localhost:8080/",
          "height": 402
        },
        "outputId": "7fb08b69-2aee-4398-c35b-bcecba1c414f"
      },
      "source": [
        "df1 = df1.drop([\"pet_id\",\"issue_date\",\"listing_date\"],axis= 1)\n",
        "df1 = df1.fillna(0)\n",
        "df1"
      ],
      "execution_count": 41,
      "outputs": [
        {
          "output_type": "execute_result",
          "data": {
            "text/html": [
              "<div>\n",
              "<style scoped>\n",
              "    .dataframe tbody tr th:only-of-type {\n",
              "        vertical-align: middle;\n",
              "    }\n",
              "\n",
              "    .dataframe tbody tr th {\n",
              "        vertical-align: top;\n",
              "    }\n",
              "\n",
              "    .dataframe thead th {\n",
              "        text-align: right;\n",
              "    }\n",
              "</style>\n",
              "<table border=\"1\" class=\"dataframe\">\n",
              "  <thead>\n",
              "    <tr style=\"text-align: right;\">\n",
              "      <th></th>\n",
              "      <th>condition</th>\n",
              "      <th>color_type</th>\n",
              "      <th>length(m)</th>\n",
              "      <th>height(cm)</th>\n",
              "      <th>X1</th>\n",
              "      <th>X2</th>\n",
              "    </tr>\n",
              "  </thead>\n",
              "  <tbody>\n",
              "    <tr>\n",
              "      <th>0</th>\n",
              "      <td>0.0</td>\n",
              "      <td>Black</td>\n",
              "      <td>0.87</td>\n",
              "      <td>42.73</td>\n",
              "      <td>0</td>\n",
              "      <td>7</td>\n",
              "    </tr>\n",
              "    <tr>\n",
              "      <th>1</th>\n",
              "      <td>1.0</td>\n",
              "      <td>Orange Tabby</td>\n",
              "      <td>0.06</td>\n",
              "      <td>6.71</td>\n",
              "      <td>0</td>\n",
              "      <td>1</td>\n",
              "    </tr>\n",
              "    <tr>\n",
              "      <th>2</th>\n",
              "      <td>1.0</td>\n",
              "      <td>Black</td>\n",
              "      <td>0.24</td>\n",
              "      <td>41.21</td>\n",
              "      <td>0</td>\n",
              "      <td>7</td>\n",
              "    </tr>\n",
              "    <tr>\n",
              "      <th>3</th>\n",
              "      <td>1.0</td>\n",
              "      <td>Black</td>\n",
              "      <td>0.29</td>\n",
              "      <td>8.46</td>\n",
              "      <td>7</td>\n",
              "      <td>1</td>\n",
              "    </tr>\n",
              "    <tr>\n",
              "      <th>4</th>\n",
              "      <td>1.0</td>\n",
              "      <td>Brown</td>\n",
              "      <td>0.71</td>\n",
              "      <td>30.92</td>\n",
              "      <td>0</td>\n",
              "      <td>7</td>\n",
              "    </tr>\n",
              "    <tr>\n",
              "      <th>...</th>\n",
              "      <td>...</td>\n",
              "      <td>...</td>\n",
              "      <td>...</td>\n",
              "      <td>...</td>\n",
              "      <td>...</td>\n",
              "      <td>...</td>\n",
              "    </tr>\n",
              "    <tr>\n",
              "      <th>8067</th>\n",
              "      <td>2.0</td>\n",
              "      <td>Brown</td>\n",
              "      <td>0.82</td>\n",
              "      <td>36.08</td>\n",
              "      <td>13</td>\n",
              "      <td>9</td>\n",
              "    </tr>\n",
              "    <tr>\n",
              "      <th>8068</th>\n",
              "      <td>0.0</td>\n",
              "      <td>Tan</td>\n",
              "      <td>0.49</td>\n",
              "      <td>27.54</td>\n",
              "      <td>13</td>\n",
              "      <td>9</td>\n",
              "    </tr>\n",
              "    <tr>\n",
              "      <th>8069</th>\n",
              "      <td>0.0</td>\n",
              "      <td>Black</td>\n",
              "      <td>0.98</td>\n",
              "      <td>37.19</td>\n",
              "      <td>0</td>\n",
              "      <td>7</td>\n",
              "    </tr>\n",
              "    <tr>\n",
              "      <th>8070</th>\n",
              "      <td>0.0</td>\n",
              "      <td>Black</td>\n",
              "      <td>0.79</td>\n",
              "      <td>23.83</td>\n",
              "      <td>0</td>\n",
              "      <td>2</td>\n",
              "    </tr>\n",
              "    <tr>\n",
              "      <th>8071</th>\n",
              "      <td>0.0</td>\n",
              "      <td>Black</td>\n",
              "      <td>0.64</td>\n",
              "      <td>24.51</td>\n",
              "      <td>0</td>\n",
              "      <td>1</td>\n",
              "    </tr>\n",
              "  </tbody>\n",
              "</table>\n",
              "<p>8072 rows × 6 columns</p>\n",
              "</div>"
            ],
            "text/plain": [
              "      condition    color_type  length(m)  height(cm)  X1  X2\n",
              "0           0.0         Black       0.87       42.73   0   7\n",
              "1           1.0  Orange Tabby       0.06        6.71   0   1\n",
              "2           1.0         Black       0.24       41.21   0   7\n",
              "3           1.0         Black       0.29        8.46   7   1\n",
              "4           1.0         Brown       0.71       30.92   0   7\n",
              "...         ...           ...        ...         ...  ..  ..\n",
              "8067        2.0         Brown       0.82       36.08  13   9\n",
              "8068        0.0           Tan       0.49       27.54  13   9\n",
              "8069        0.0         Black       0.98       37.19   0   7\n",
              "8070        0.0         Black       0.79       23.83   0   2\n",
              "8071        0.0         Black       0.64       24.51   0   1\n",
              "\n",
              "[8072 rows x 6 columns]"
            ]
          },
          "metadata": {
            "tags": []
          },
          "execution_count": 41
        }
      ]
    },
    {
      "cell_type": "code",
      "metadata": {
        "id": "fMwvvfldUBBB",
        "colab_type": "code",
        "colab": {
          "base_uri": "https://localhost:8080/",
          "height": 134
        },
        "outputId": "1c1255cd-48e6-4348-e5ca-109777727675"
      },
      "source": [
        "x = df.iloc[0:,:-2].values\n",
        "x"
      ],
      "execution_count": 42,
      "outputs": [
        {
          "output_type": "execute_result",
          "data": {
            "text/plain": [
              "array([[2.0, 'Brown Tabby', 0.8, 7.78, 13, 9],\n",
              "       [1.0, 'White', 0.72, 14.19, 13, 9],\n",
              "       [0.0, 'Brown', 0.15, 40.9, 15, 4],\n",
              "       ...,\n",
              "       [0.0, 'Calico Point', 0.99, 28.13, 13, 9],\n",
              "       [0.0, 'Tan', 0.55, 44.82, 13, 9],\n",
              "       [0.0, 'Brown', 0.86, 37.4, 0, 1]], dtype=object)"
            ]
          },
          "metadata": {
            "tags": []
          },
          "execution_count": 42
        }
      ]
    },
    {
      "cell_type": "code",
      "metadata": {
        "id": "IY1zHfnqX8GL",
        "colab_type": "code",
        "colab": {}
      },
      "source": [
        "y = df.iloc[:,6:8].values\n",
        "y_b = y[:,0]\n",
        "y_p = y[:,1]"
      ],
      "execution_count": 44,
      "outputs": []
    },
    {
      "cell_type": "code",
      "metadata": {
        "id": "mpY72jOTdqsS",
        "colab_type": "code",
        "colab": {
          "base_uri": "https://localhost:8080/",
          "height": 134
        },
        "outputId": "cfaf587e-a4c1-4be1-bbd1-3c2071d8e3cf"
      },
      "source": [
        "from sklearn.preprocessing import LabelEncoder,OneHotEncoder\n",
        "le=LabelEncoder()\n",
        "x[:,1]=le.fit_transform(x[:,1])\n",
        "x"
      ],
      "execution_count": null,
      "outputs": [
        {
          "output_type": "execute_result",
          "data": {
            "text/plain": [
              "array([[2.0, 18, 80, 7.78, 13, 9],\n",
              "       [1.0, 53, 72, 14.19, 13, 9],\n",
              "       [0.0, 15, 15, 40.9, 15, 4],\n",
              "       ...,\n",
              "       [0.0, 22, 99, 28.13, 13, 9],\n",
              "       [0.0, 48, 55, 44.82, 13, 9],\n",
              "       [0.0, 15, 86, 37.4, 0, 1]], dtype=object)"
            ]
          },
          "metadata": {
            "tags": []
          },
          "execution_count": 47
        }
      ]
    },
    {
      "cell_type": "code",
      "metadata": {
        "id": "b6xeiKE_JYJ3",
        "colab_type": "code",
        "colab": {}
      },
      "source": [
        "from sklearn.preprocessing import StandardScaler\n",
        "sc = StandardScaler()\n",
        "x = sc.fit_transform(x)"
      ],
      "execution_count": 58,
      "outputs": []
    },
    {
      "cell_type": "code",
      "metadata": {
        "id": "-DNq1FT-Ju0y",
        "colab_type": "code",
        "colab": {
          "base_uri": "https://localhost:8080/",
          "height": 235
        },
        "outputId": "034b1188-c203-4035-ec1d-95a5662c5342"
      },
      "source": [
        "x"
      ],
      "execution_count": 59,
      "outputs": [
        {
          "output_type": "execute_result",
          "data": {
            "text/plain": [
              "array([[ 1.52666965, -0.33762349,  1.0300209 , -1.51072853,  1.16101336,\n",
              "         1.25727915],\n",
              "       [ 0.2393047 ,  1.46357614,  0.75291413, -1.01838767,  1.16101336,\n",
              "         1.25727915],\n",
              "       [-1.04806025, -0.49201203, -1.2214716 ,  1.03316059,  1.46532585,\n",
              "        -0.16411631],\n",
              "       ...,\n",
              "       [-1.04806025, -0.1317721 ,  1.68814948,  0.05231929,  1.16101336,\n",
              "         1.25727915],\n",
              "       [-1.04806025,  1.20626191,  0.16406224,  1.33424892,  1.16101336,\n",
              "         1.25727915],\n",
              "       [-1.04806025, -0.49201203,  1.23785098,  0.76433173, -0.81701778,\n",
              "        -1.01695359]])"
            ]
          },
          "metadata": {
            "tags": []
          },
          "execution_count": 59
        }
      ]
    },
    {
      "cell_type": "code",
      "metadata": {
        "id": "FvzI0jh4J8sE",
        "colab_type": "code",
        "colab": {}
      },
      "source": [
        "from sklearn.tree import DecisionTreeClassifier\n",
        "classifier1 = DecisionTreeClassifier(criterion = 'entropy', random_state = 0)\n",
        "classifier2 = DecisionTreeClassifier(criterion = 'entropy', random_state = 0)\n",
        "cl1 = classifier1.fit(x,y_b)\n",
        "cl2 = classifier2.fit(x,y_p)"
      ],
      "execution_count": 60,
      "outputs": []
    },
    {
      "cell_type": "code",
      "metadata": {
        "id": "_1Sjm0WOiZim",
        "colab_type": "code",
        "colab": {
          "base_uri": "https://localhost:8080/",
          "height": 134
        },
        "outputId": "5ce6e532-2aab-440c-b9eb-1fc5ee3d7306"
      },
      "source": [
        "x_te = df.iloc[0:,:-2].values\n",
        "x_te"
      ],
      "execution_count": 61,
      "outputs": [
        {
          "output_type": "execute_result",
          "data": {
            "text/plain": [
              "array([[2.0, 'Brown Tabby', 0.8, 7.78, 13, 9],\n",
              "       [1.0, 'White', 0.72, 14.19, 13, 9],\n",
              "       [0.0, 'Brown', 0.15, 40.9, 15, 4],\n",
              "       ...,\n",
              "       [0.0, 'Calico Point', 0.99, 28.13, 13, 9],\n",
              "       [0.0, 'Tan', 0.55, 44.82, 13, 9],\n",
              "       [0.0, 'Brown', 0.86, 37.4, 0, 1]], dtype=object)"
            ]
          },
          "metadata": {
            "tags": []
          },
          "execution_count": 61
        }
      ]
    },
    {
      "cell_type": "code",
      "metadata": {
        "id": "KZMDHm3-ipjs",
        "colab_type": "code",
        "colab": {
          "base_uri": "https://localhost:8080/",
          "height": 134
        },
        "outputId": "f4b6159f-83bc-40e3-c732-d84d3d72fb82"
      },
      "source": [
        "from sklearn.preprocessing import LabelEncoder,OneHotEncoder\n",
        "le=LabelEncoder()\n",
        "x_te[:,1]=le.fit_transform(x_te[:,1])\n",
        "x_te"
      ],
      "execution_count": 62,
      "outputs": [
        {
          "output_type": "execute_result",
          "data": {
            "text/plain": [
              "array([[2.0, 18, 0.8, 7.78, 13, 9],\n",
              "       [1.0, 53, 0.72, 14.19, 13, 9],\n",
              "       [0.0, 15, 0.15, 40.9, 15, 4],\n",
              "       ...,\n",
              "       [0.0, 22, 0.99, 28.13, 13, 9],\n",
              "       [0.0, 48, 0.55, 44.82, 13, 9],\n",
              "       [0.0, 15, 0.86, 37.4, 0, 1]], dtype=object)"
            ]
          },
          "metadata": {
            "tags": []
          },
          "execution_count": 62
        }
      ]
    },
    {
      "cell_type": "code",
      "metadata": {
        "id": "Xr2KlaGwK5wB",
        "colab_type": "code",
        "colab": {
          "base_uri": "https://localhost:8080/",
          "height": 235
        },
        "outputId": "23a056de-86e4-4b6e-f262-bae44b9a7c1d"
      },
      "source": [
        "from sklearn.preprocessing import StandardScaler\n",
        "sc = StandardScaler()\n",
        "x_te = sc.fit_transform(x_te)\n",
        "x_te"
      ],
      "execution_count": 63,
      "outputs": [
        {
          "output_type": "execute_result",
          "data": {
            "text/plain": [
              "array([[ 1.52666965, -0.33762349,  1.0300209 , -1.51072853,  1.16101336,\n",
              "         1.25727915],\n",
              "       [ 0.2393047 ,  1.46357614,  0.75291413, -1.01838767,  1.16101336,\n",
              "         1.25727915],\n",
              "       [-1.04806025, -0.49201203, -1.2214716 ,  1.03316059,  1.46532585,\n",
              "        -0.16411631],\n",
              "       ...,\n",
              "       [-1.04806025, -0.1317721 ,  1.68814948,  0.05231929,  1.16101336,\n",
              "         1.25727915],\n",
              "       [-1.04806025,  1.20626191,  0.16406224,  1.33424892,  1.16101336,\n",
              "         1.25727915],\n",
              "       [-1.04806025, -0.49201203,  1.23785098,  0.76433173, -0.81701778,\n",
              "        -1.01695359]])"
            ]
          },
          "metadata": {
            "tags": []
          },
          "execution_count": 63
        }
      ]
    },
    {
      "cell_type": "code",
      "metadata": {
        "id": "WU9_BP3CjYZo",
        "colab_type": "code",
        "colab": {
          "base_uri": "https://localhost:8080/",
          "height": 34
        },
        "outputId": "c0c00331-62bf-4680-9eaa-f9bf1621776a"
      },
      "source": [
        "x.shape\n",
        "#x_te.shape"
      ],
      "execution_count": 14,
      "outputs": [
        {
          "output_type": "execute_result",
          "data": {
            "text/plain": [
              "(18834, 23449)"
            ]
          },
          "metadata": {
            "tags": []
          },
          "execution_count": 14
        }
      ]
    },
    {
      "cell_type": "code",
      "metadata": {
        "id": "nBnpUXHwiFRM",
        "colab_type": "code",
        "colab": {
          "base_uri": "https://localhost:8080/",
          "height": 34
        },
        "outputId": "2e448fa5-645b-4690-90bf-ef50db511c46"
      },
      "source": [
        "y_b_pred = cl1.predict(x_te)\n",
        "y_b_pred"
      ],
      "execution_count": 64,
      "outputs": [
        {
          "output_type": "execute_result",
          "data": {
            "text/plain": [
              "array([0., 0., 2., ..., 1., 1., 1.])"
            ]
          },
          "metadata": {
            "tags": []
          },
          "execution_count": 64
        }
      ]
    },
    {
      "cell_type": "code",
      "metadata": {
        "id": "4Hwr3csZAomc",
        "colab_type": "code",
        "colab": {
          "base_uri": "https://localhost:8080/",
          "height": 34
        },
        "outputId": "9f720962-850f-4d7f-f3cc-a752c0523de6"
      },
      "source": [
        "y_p_pred = cl2.predict(x_te)\n",
        "y_p_pred"
      ],
      "execution_count": 65,
      "outputs": [
        {
          "output_type": "execute_result",
          "data": {
            "text/plain": [
              "array([1., 2., 4., ..., 1., 2., 2.])"
            ]
          },
          "metadata": {
            "tags": []
          },
          "execution_count": 65
        }
      ]
    },
    {
      "cell_type": "code",
      "metadata": {
        "id": "iGfou5APOCBI",
        "colab_type": "code",
        "colab": {
          "base_uri": "https://localhost:8080/",
          "height": 84
        },
        "outputId": "9575dd67-e455-4f8d-8082-d8c4416ac26a"
      },
      "source": [
        "from sklearn.metrics import f1_score,accuracy_score\n",
        "f1 = f1_score(y_b,y_b_pred,average = 'weighted')\n",
        "f2 = f1_score(y_p,y_p_pred,average='weighted')\n",
        "print(f1)\n",
        "print(f2)\n",
        "f3 =accuracy_score(y_b,y_b_pred)\n",
        "f4 = accuracy_score(y_p,y_p_pred)\n",
        "print(f3)\n",
        "print(f4)"
      ],
      "execution_count": 79,
      "outputs": [
        {
          "output_type": "stream",
          "text": [
            "1.0\n",
            "0.9998407189793048\n",
            "1.0\n",
            "0.9998407136030583\n"
          ],
          "name": "stdout"
        }
      ]
    },
    {
      "cell_type": "code",
      "metadata": {
        "id": "Sc_qH7mjU6CX",
        "colab_type": "code",
        "colab": {}
      },
      "source": [
        ""
      ],
      "execution_count": null,
      "outputs": []
    }
  ]
}